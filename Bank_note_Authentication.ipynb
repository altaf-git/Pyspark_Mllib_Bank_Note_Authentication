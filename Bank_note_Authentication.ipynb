{
 "cells": [
  {
   "cell_type": "markdown",
   "metadata": {},
   "source": [
    "# Bank Note Authentication"
   ]
  },
  {
   "cell_type": "code",
   "execution_count": 10,
   "metadata": {},
   "outputs": [],
   "source": [
    "import pandas as pd\n",
    "import matplotlib.pyplot as plt\n",
    "import numpy as np\n",
    "import seaborn as sns\n",
    "import pyspark\n",
    "import missingno as msno"
   ]
  },
  {
   "cell_type": "code",
   "execution_count": 21,
   "metadata": {},
   "outputs": [],
   "source": [
    "from pyspark import SparkContext,SparkConf\n",
    "from pyspark.sql import SQLContext,SparkSession,HiveContext\n",
    "from pyspark.sql.types import *"
   ]
  },
  {
   "cell_type": "code",
   "execution_count": 15,
   "metadata": {},
   "outputs": [],
   "source": [
    "sc=SparkContext.getOrCreate(SparkConf().setMaster(\"local[*]\"))\n",
    "spark=SparkSession.builder.getOrCreate()"
   ]
  },
  {
   "cell_type": "markdown",
   "metadata": {},
   "source": [
    "schemas=StructType([\n",
    "    StructField('feature1',),\n",
    "    StructField('feature2',DoubleType(),True),\n",
    "    StructField('feature3',DoubleType(),True),\n",
    "    StructField('label',IntegerType(),True)\n",
    "])"
   ]
  },
  {
   "cell_type": "code",
   "execution_count": 34,
   "metadata": {},
   "outputs": [],
   "source": [
    "raw_data=spark.read.csv('data_banknote_authentication.csv',inferSchema=True,header=None)"
   ]
  },
  {
   "cell_type": "code",
   "execution_count": 35,
   "metadata": {},
   "outputs": [
    {
     "name": "stdout",
     "output_type": "stream",
     "text": [
      "+-------+-------+--------+--------+---+\n",
      "|    _c0|    _c1|     _c2|     _c3|_c4|\n",
      "+-------+-------+--------+--------+---+\n",
      "| 3.6216| 8.6661| -2.8073|-0.44699|  0|\n",
      "| 4.5459| 8.1674| -2.4586| -1.4621|  0|\n",
      "|  3.866|-2.6383|  1.9242| 0.10645|  0|\n",
      "| 3.4566| 9.5228| -4.0112| -3.5944|  0|\n",
      "|0.32924|-4.4552|  4.5718| -0.9888|  0|\n",
      "| 4.3684| 9.6718| -3.9606| -3.1625|  0|\n",
      "| 3.5912| 3.0129| 0.72888| 0.56421|  0|\n",
      "| 2.0922|  -6.81|  8.4636|-0.60216|  0|\n",
      "| 3.2032| 5.7588|-0.75345|-0.61251|  0|\n",
      "| 1.5356| 9.1772| -2.2718|-0.73535|  0|\n",
      "| 1.2247| 8.7779| -2.2135|-0.80647|  0|\n",
      "| 3.9899|-2.7066|  2.3946| 0.86291|  0|\n",
      "| 1.8993| 7.6625| 0.15394| -3.1108|  0|\n",
      "|-1.5768| 10.843|  2.5462| -2.9362|  0|\n",
      "|  3.404| 8.7261| -2.9915|-0.57242|  0|\n",
      "| 4.6765|-3.3895|  3.4896|  1.4771|  0|\n",
      "| 2.6719| 3.0646| 0.37158| 0.58619|  0|\n",
      "|0.80355| 2.8473|  4.3439|  0.6017|  0|\n",
      "| 1.4479|-4.8794|  8.3428| -2.1086|  0|\n",
      "| 5.2423|11.0272|  -4.353| -4.1013|  0|\n",
      "+-------+-------+--------+--------+---+\n",
      "only showing top 20 rows\n",
      "\n"
     ]
    }
   ],
   "source": [
    "raw_data.show()"
   ]
  },
  {
   "cell_type": "code",
   "execution_count": 39,
   "metadata": {},
   "outputs": [],
   "source": [
    "data=raw_data.withColumnRenamed(\"_c0\",\"feature1\").withColumnRenamed(\"_c1\",\"feature2\").withColumnRenamed(\"_c2\",\"feature3\").withColumnRenamed(\"_c3\",\"feature4\").withColumnRenamed(\"_c4\",\"label\")"
   ]
  },
  {
   "cell_type": "code",
   "execution_count": 40,
   "metadata": {},
   "outputs": [
    {
     "name": "stdout",
     "output_type": "stream",
     "text": [
      "root\n",
      " |-- feature1: double (nullable = true)\n",
      " |-- feature2: double (nullable = true)\n",
      " |-- feature3: double (nullable = true)\n",
      " |-- feature4: double (nullable = true)\n",
      " |-- label: integer (nullable = true)\n",
      "\n"
     ]
    }
   ],
   "source": [
    "data.printSchema()"
   ]
  },
  {
   "cell_type": "code",
   "execution_count": 41,
   "metadata": {},
   "outputs": [
    {
     "data": {
      "text/plain": [
       "['feature1', 'feature2', 'feature3', 'feature4', 'label']"
      ]
     },
     "execution_count": 41,
     "metadata": {},
     "output_type": "execute_result"
    }
   ],
   "source": [
    "data.columns"
   ]
  },
  {
   "cell_type": "code",
   "execution_count": 45,
   "metadata": {},
   "outputs": [
    {
     "data": {
      "image/png": "[encoded data removed]",
      "text/plain": [
       "<Figure size 1080x576 with 2 Axes>"
      ]
     },
     "metadata": {
      "needs_background": "light"
     },
     "output_type": "display_data"
    }
   ],
   "source": [
    "df_pd=data.toPandas()\n",
    "plt.subplots(figsize=(15,8))\n",
    "hm1=sns.heatmap(df_pd.corr(),annot=True,cmap='YlGnBu')\n",
    "hm1.set_xticklabels(hm1.get_xticklabels(), rotation=90)\n",
    "hm1.xaxis.set_ticks_position('top')"
   ]
  },
  {
   "cell_type": "code",
   "execution_count": 78,
   "metadata": {},
   "outputs": [],
   "source": [
    "splits=data.randomSplit([0.8,0.2])\n",
    "df_train=splits[0]\n",
    "df_test=splits[1]"
   ]
  },
  {
   "cell_type": "code",
   "execution_count": 79,
   "metadata": {},
   "outputs": [],
   "source": [
    "from pyspark.ml.linalg import Vectors\n",
    "from pyspark.ml.feature import VectorAssembler,Normalizer\n",
    "vectorizer=VectorAssembler(inputCols=[\"feature1\",\"feature2\",\"feature3\",\"feature4\"],outputCol=\"vecfeatures\")\n",
    "normalizer=Normalizer(inputCol=\"vecfeatures\",outputCol=\"features\",p=1.0)"
   ]
  },
  {
   "cell_type": "code",
   "execution_count": 80,
   "metadata": {},
   "outputs": [],
   "source": [
    "from pyspark.ml.classification import GBTClassifier\n",
    "gbt=GBTClassifier()"
   ]
  },
  {
   "cell_type": "code",
   "execution_count": 81,
   "metadata": {},
   "outputs": [],
   "source": [
    "from pyspark.ml import Pipeline\n",
    "pipeline=Pipeline(stages=[vectorizer,normalizer,gbt])"
   ]
  },
  {
   "cell_type": "code",
   "execution_count": 82,
   "metadata": {},
   "outputs": [],
   "source": [
    "model=pipeline.fit(df_train)\n",
    "pred_train=model.transform(df_train)\n",
    "pred_test=model.transform(df_test)"
   ]
  },
  {
   "cell_type": "code",
   "execution_count": 83,
   "metadata": {},
   "outputs": [],
   "source": [
    "from pyspark.ml.evaluation import MulticlassClassificationEvaluator\n",
    "binEval=MulticlassClassificationEvaluator().setMetricName(\"accuracy\").setPredictionCol(\"prediction\").setLabelCol(\"label\")"
   ]
  },
  {
   "cell_type": "code",
   "execution_count": 84,
   "metadata": {},
   "outputs": [
    {
     "data": {
      "text/plain": [
       "0.998193315266486"
      ]
     },
     "execution_count": 84,
     "metadata": {},
     "output_type": "execute_result"
    }
   ],
   "source": [
    "binEval.evaluate(pred_train)"
   ]
  },
  {
   "cell_type": "code",
   "execution_count": 85,
   "metadata": {},
   "outputs": [
    {
     "data": {
      "text/plain": [
       "0.9962264150943396"
      ]
     },
     "execution_count": 85,
     "metadata": {},
     "output_type": "execute_result"
    }
   ],
   "source": [
    "binEval.evaluate(pred_test)"
   ]
  },
  {
   "cell_type": "code",
   "execution_count": 69,
   "metadata": {},
   "outputs": [],
   "source": [
    "from pyspark.ml.tuning import CrossValidator,ParamGridBuilder\n"
   ]
  },
  {
   "cell_type": "code",
   "execution_count": 70,
   "metadata": {},
   "outputs": [],
   "source": [
    "paramGrid=ParamGridBuilder()\\\n",
    "    .addGrid(normalizer.p,[1.0,2.0,10.0])\\\n",
    "    .addGrid(gbt.maxBins,[2,4,8,16])\\\n",
    "    .addGrid(gbt.maxDepth,[2,4,8,16])\\\n",
    "    .build()"
   ]
  },
  {
   "cell_type": "code",
   "execution_count": 72,
   "metadata": {},
   "outputs": [],
   "source": [
    "crossVal=CrossValidator(estimator=pipeline,estimatorParamMaps=paramGrid,evaluator=MulticlassClassificationEvaluator(),numFolds=4)"
   ]
  },
  {
   "cell_type": "code",
   "execution_count": 73,
   "metadata": {},
   "outputs": [
    {
     "name": "stderr",
     "output_type": "stream",
     "text": [
      "Exception ignored in: <function JavaWrapper.__del__ at 0x7f648ecd18c0>\n",
      "Traceback (most recent call last):\n",
      "  File \"/home/altaf/anaconda3/lib/python3.7/site-packages/pyspark/ml/wrapper.py\", line 40, in __del__\n",
      "    if SparkContext._active_spark_context and self._java_obj is not None:\n",
      "AttributeError: 'VectorAssembler' object has no attribute '_java_obj'\n"
     ]
    }
   ],
   "source": [
    "cvModel=crossVal.fit(df_train)"
   ]
  },
  {
   "cell_type": "code",
   "execution_count": 74,
   "metadata": {},
   "outputs": [],
   "source": [
    "pred_train=cvModel.transform(df_train)\n",
    "pred_test=cvModel.transform(df_test)"
   ]
  },
  {
   "cell_type": "code",
   "execution_count": 75,
   "metadata": {},
   "outputs": [
    {
     "data": {
      "text/plain": [
       "1.0"
      ]
     },
     "execution_count": 75,
     "metadata": {},
     "output_type": "execute_result"
    }
   ],
   "source": [
    "binEval.evaluate(pred_train)"
   ]
  },
  {
   "cell_type": "code",
   "execution_count": 76,
   "metadata": {},
   "outputs": [
    {
     "data": {
      "text/plain": [
       "0.9961240310077519"
      ]
     },
     "execution_count": 76,
     "metadata": {},
     "output_type": "execute_result"
    }
   ],
   "source": [
    "binEval.evaluate(pred_test)"
   ]
  },
  {
   "cell_type": "code",
   "execution_count": 77,
   "metadata": {},
   "outputs": [
    {
     "data": {
      "text/plain": [
       "Row(feature1=-7.0421, feature2=9.2, feature3=0.25933, feature4=-4.6832, label=1, vecfeatures=DenseVector([-7.0421, 9.2, 0.2593, -4.6832]), features=DenseVector([-0.3324, 0.4343, 0.0122, -0.2211]), rawPrediction=DenseVector([-1.5435, 1.5435]), probability=DenseVector([0.0436, 0.9564]), prediction=1.0)"
      ]
     },
     "execution_count": 77,
     "metadata": {},
     "output_type": "execute_result"
    }
   ],
   "source": [
    "pred_train.head()"
   ]
  },
  {
   "cell_type": "code",
   "execution_count": null,
   "metadata": {},
   "outputs": [],
   "source": []
  }
 ],
 "metadata": {
  "kernelspec": {
   "display_name": "Python 3",
   "language": "python",
   "name": "python3"
  },
  "language_info": {
   "codemirror_mode": {
    "name": "ipython",
    "version": 3
   },
   "file_extension": ".py",
   "mimetype": "text/x-python",
   "name": "python",
   "nbconvert_exporter": "python",
   "pygments_lexer": "ipython3",
   "version": "3.7.6"
  }
 },
 "nbformat": 4,
 "nbformat_minor": 4
}
